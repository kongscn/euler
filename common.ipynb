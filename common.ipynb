{
 "metadata": {
  "name": ""
 },
 "nbformat": 3,
 "nbformat_minor": 0,
 "worksheets": [
  {
   "cells": [
    {
     "cell_type": "code",
     "collapsed": false,
     "input": [
      "%load_ext cythonmagic"
     ],
     "language": "python",
     "metadata": {},
     "outputs": [],
     "prompt_number": 1
    },
    {
     "cell_type": "code",
     "collapsed": false,
     "input": [
      "%%cython_pyximport common\n",
      "from functools import reduce\n",
      "\n",
      "def gcd(a, b):\n",
      "    \"\"\"Return greatest common divisor using Euclid's Algorithm.\"\"\"\n",
      "    while b:      \n",
      "        a, b = b, a % b\n",
      "    return a\n",
      "\n",
      "def _lcm(a, b):\n",
      "    \"\"\"Return lowest common multiple.\"\"\"\n",
      "    return a * b // gcd(a, b)\n",
      "\n",
      "def lcm(*args):\n",
      "    \"\"\"Return lcm of args.\"\"\"   \n",
      "    return reduce(_lcm, args)\n"
     ],
     "language": "python",
     "metadata": {},
     "outputs": [],
     "prompt_number": 2
    },
    {
     "cell_type": "code",
     "collapsed": false,
     "input": [],
     "language": "python",
     "metadata": {},
     "outputs": [],
     "prompt_number": 2
    }
   ],
   "metadata": {}
  }
 ]
}