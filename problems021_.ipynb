{
 "metadata": {
  "name": ""
 },
 "nbformat": 3,
 "nbformat_minor": 0,
 "worksheets": [
  {
   "cells": [
    {
     "cell_type": "code",
     "collapsed": false,
     "input": [
      "from functools import reduce\n",
      "from operator import mul\n",
      "from math import sqrt, factorial\n",
      "\n",
      "import numpy as np\n",
      "import pandas as pd\n",
      "\n",
      "import util"
     ],
     "language": "python",
     "metadata": {},
     "outputs": [],
     "prompt_number": 1
    },
    {
     "cell_type": "code",
     "collapsed": false,
     "input": [
      "%load_ext cythonmagic"
     ],
     "language": "python",
     "metadata": {},
     "outputs": [],
     "prompt_number": 2
    },
    {
     "cell_type": "code",
     "collapsed": false,
     "input": [
      "import pyximport\n",
      "_ = pyximport.install()\n",
      "\n",
      "import common"
     ],
     "language": "python",
     "metadata": {},
     "outputs": [],
     "prompt_number": 3
    },
    {
     "cell_type": "markdown",
     "metadata": {},
     "source": [
      "##[Problem 21](http://projecteuler.net/problem=21): Amicable numbers\n",
      "---\n",
      "\n",
      "Let $d(n)$ be defined as the sum of proper divisors of n (numbers less than n which divide evenly into n).\n",
      "If $d(a) = b$ and $d(b) = a$, where a  b, then a and b are an amicable pair and each of a and b are called amicable numbers.\n",
      "\n",
      "For example, the proper divisors of $220$ are $1, 2, 4, 5, 10, 11, 20, 22, 44, 55 ~\\text{and}~ 110$; therefore $d(220) = 284$. \n",
      "The proper divisors of $284$ are $1, 2, 4, 71 ~\\text{and}~ 142$; so $d(284) = 220$.\n",
      "\n",
      "Evaluate the sum of all the amicable numbers under 10000."
     ]
    },
    {
     "cell_type": "code",
     "collapsed": false,
     "input": [
      "def d(num):\n",
      "    if num <= 1:\n",
      "        return 0\n",
      "    divisors_sum = 1\n",
      "    for divisor in range(2, int(sqrt(num))+1):\n",
      "        if num % divisor == 0:\n",
      "            divisors_sum = divisors_sum + divisor + num//divisor\n",
      "    return divisors_sum\n",
      "def prob21_1(upper=10000):\n",
      "    amicnum = set()\n",
      "    for i in range(3, upper):\n",
      "        di = d(i)\n",
      "        if di != i and d(di) == i:\n",
      "            amicnum.add(i)\n",
      "            amicnum.add(di)\n",
      "    return sum(amicnum)"
     ],
     "language": "python",
     "metadata": {},
     "outputs": [],
     "prompt_number": 4
    },
    {
     "cell_type": "code",
     "collapsed": false,
     "input": [
      "31626 == prob21_1()"
     ],
     "language": "python",
     "metadata": {},
     "outputs": [
      {
       "metadata": {},
       "output_type": "pyout",
       "prompt_number": 5,
       "text": [
        "True"
       ]
      }
     ],
     "prompt_number": 5
    },
    {
     "cell_type": "code",
     "collapsed": false,
     "input": [
      "%timeit prob21_1()"
     ],
     "language": "python",
     "metadata": {},
     "outputs": [
      {
       "output_type": "stream",
       "stream": "stdout",
       "text": [
        "1 loops, best of 3: 364 ms per loop\n"
       ]
      }
     ],
     "prompt_number": 6
    },
    {
     "cell_type": "markdown",
     "metadata": {},
     "source": [
      "##[Problem 22](http://projecteuler.net/problem=22): Names scores\n",
      "---\n",
      "\n",
      "Using names.txt (right click and 'Save Link/Target As...'), a 46K text file containing over five-thousand first names, begin by sorting it into alphabetical order. Then working out the alphabetical value for each name, multiply this value by its alphabetical position in the list to obtain a name score.\n",
      "\n",
      "For example, when the list is sorted into alphabetical order, COLIN, which is worth $3 + 15 + 12 + 9 + 14 = 53$, is the 938th name in the list. So, COLIN would obtain a score of $938 \\times 53 = 49714$.\n",
      "\n",
      "What is the total of all the name scores in the file?"
     ]
    },
    {
     "cell_type": "code",
     "collapsed": false,
     "input": [
      "import string\n",
      "def avalue(name):\n",
      "    return sum([string.ascii_uppercase.find(i) for i in name]) + len(name)\n",
      "def prob22_1(file = 'inputs/input_22.txt'):\n",
      "    ttscore = 0\n",
      "    names = open(file, 'r').read()\n",
      "    names = names.split(',')\n",
      "    names.sort()\n",
      "    for i in range(len(names)):\n",
      "        ttscore += (i+1) * avalue(names[i])\n",
      "    return ttscore"
     ],
     "language": "python",
     "metadata": {},
     "outputs": [],
     "prompt_number": 7
    },
    {
     "cell_type": "code",
     "collapsed": false,
     "input": [
      "871198282 == prob22_1()"
     ],
     "language": "python",
     "metadata": {},
     "outputs": [
      {
       "metadata": {},
       "output_type": "pyout",
       "prompt_number": 8,
       "text": [
        "True"
       ]
      }
     ],
     "prompt_number": 8
    },
    {
     "cell_type": "code",
     "collapsed": false,
     "input": [
      "%timeit prob22_1()"
     ],
     "language": "python",
     "metadata": {},
     "outputs": [
      {
       "output_type": "stream",
       "stream": "stdout",
       "text": [
        "10 loops, best of 3: 52.2 ms per loop\n"
       ]
      }
     ],
     "prompt_number": 9
    },
    {
     "cell_type": "markdown",
     "metadata": {},
     "source": [
      "##[Problem 23](http://projecteuler.net/problem=23): Non-abundant sums\n",
      "---\n",
      "\n",
      "A perfect number is a number for which the sum of its proper divisors is exactly equal to the number. \n",
      "For example, the sum of the proper divisors of 28 would be $1 + 2 + 4 + 7 + 14 = 28$, \n",
      "which means that 28 is a perfect number.\n",
      "\n",
      "A number n is called deficient if the sum of its proper divisors is less than n \n",
      "and it is called abundant if this sum exceeds n.\n",
      "\n",
      "As 12 is the smallest abundant number, $1 + 2 + 3 + 4 + 6 = 16$, \n",
      "the smallest number that can be written as the sum of two abundant numbers is 24. \n",
      "By mathematical analysis, \n",
      "it can be shown that all integers greater than $28123$ can be written as the sum of two abundant numbers. \n",
      "However, this upper limit cannot be reduced any further by analysis \n",
      "even though it is known that the greatest number that \n",
      "cannot be expressed as the sum of two abundant numbers is less than this limit.\n",
      "\n",
      "Find the sum of all the positive integers which cannot be written as the sum of two abundant numbers."
     ]
    },
    {
     "cell_type": "code",
     "collapsed": false,
     "input": [
      "%%cython\n",
      "from math import sqrt\n",
      "def d(long num):\n",
      "    cdef long divisor\n",
      "    if num <= 1:\n",
      "        return 0\n",
      "    divisors = set()\n",
      "    for divisor in range(2, int(sqrt(num))+1):\n",
      "        if num % divisor == 0:\n",
      "            divisors.add(divisor)\n",
      "            divisors.add(num//divisor)\n",
      "    return sum(divisors)\n",
      "\n",
      "abds = set(i for i in range(1,28123) if d(i)>i)\n",
      "\n",
      "def abdtsumable(i):\n",
      "    return any(i-a in abds for a in abds)\n",
      "\n",
      "def prob23_1(upper=28123):\n",
      "    lst = [i for i in range(1,upper+1) if not abdtsumable(i)]\n",
      "    return sum(lst)"
     ],
     "language": "python",
     "metadata": {},
     "outputs": [],
     "prompt_number": 10
    },
    {
     "cell_type": "code",
     "collapsed": false,
     "input": [
      "4179871 == prob23_1()"
     ],
     "language": "python",
     "metadata": {},
     "outputs": [
      {
       "metadata": {},
       "output_type": "pyout",
       "prompt_number": 11,
       "text": [
        "True"
       ]
      }
     ],
     "prompt_number": 11
    },
    {
     "cell_type": "code",
     "collapsed": false,
     "input": [
      "%timeit prob23_1()"
     ],
     "language": "python",
     "metadata": {},
     "outputs": [
      {
       "output_type": "stream",
       "stream": "stdout",
       "text": [
        "1 loops, best of 3: 2.82 s per loop\n"
       ]
      }
     ],
     "prompt_number": 12
    },
    {
     "cell_type": "markdown",
     "metadata": {},
     "source": [
      "##[Problem 24](http://projecteuler.net/problem=24): Lexicographic permutations\n",
      "---\n",
      "\n",
      "A permutation is an ordered arrangement of objects. For example, 3124 is one possible permutation of the digits $1, 2, 3 ~\\text{and}~ 4$. If all of the permutations are listed numerically or alphabetically, we call it lexicographic order. The lexicographic permutations of 0, 1 and 2 are:\n",
      "\n",
      "$012  ~ 021 ~  102  ~ 120  ~ 201  ~ 210$\n",
      "\n",
      "What is the millionth lexicographic permutation of the digits $0, 1, 2, 3, 4, 5, 6, 7, 8 ~\\text{and}~ 9$?"
     ]
    },
    {
     "cell_type": "code",
     "collapsed": false,
     "input": [
      "def prob24_1():\n",
      "    from itertools import permutations\n",
      "    lst = list(permutations(range(10), 10))\n",
      "    lst.sort()\n",
      "    return int(''.join(map(str, lst[10**6-1])))"
     ],
     "language": "python",
     "metadata": {},
     "outputs": [],
     "prompt_number": 13
    },
    {
     "cell_type": "code",
     "collapsed": false,
     "input": [
      "2783915460 == prob24_1()"
     ],
     "language": "python",
     "metadata": {},
     "outputs": [
      {
       "metadata": {},
       "output_type": "pyout",
       "prompt_number": 14,
       "text": [
        "True"
       ]
      }
     ],
     "prompt_number": 14
    },
    {
     "cell_type": "code",
     "collapsed": false,
     "input": [
      "%timeit prob24_1()"
     ],
     "language": "python",
     "metadata": {},
     "outputs": [
      {
       "output_type": "stream",
       "stream": "stdout",
       "text": [
        "1 loops, best of 3: 1.83 s per loop\n"
       ]
      }
     ],
     "prompt_number": 15
    },
    {
     "cell_type": "markdown",
     "metadata": {},
     "source": [
      "##[Problem 25](http://projecteuler.net/problem=25): 1000-digit Fibonacci number\n",
      "---\n",
      "\n",
      "The Fibonacci sequence is defined by the recurrence relation:\n",
      "\n",
      "$F_n = F_{n1} + F_{n2}$, where $F_1 = 1$ and $F_2 = 1$.\n",
      "Hence the first 12 terms will be:\n",
      "$$\n",
      "F_1 = 1\\\\\n",
      "F_2 = 1\\\\\n",
      "F_3 = 2\\\\\n",
      "F_4 = 3\\\\\n",
      "F_5 = 5\\\\\n",
      "F_6 = 8\\\\\n",
      "F_7 = 13\\\\\n",
      "F_8 = 21\\\\\n",
      "F_9 = 34\\\\\n",
      "F_{10} = 55\\\\\n",
      "F_{11} = 89\\\\\n",
      "F_{12} = 144$$\n",
      "The 12th term, $F_{12}$, is the first term to contain three digits.\n",
      "\n",
      "What is the first term in the Fibonacci sequence to contain 1000 digits?"
     ]
    },
    {
     "cell_type": "code",
     "collapsed": false,
     "input": [
      "def prob25_1():\n",
      "    fa = 1\n",
      "    fb = 1\n",
      "    idx =2\n",
      "    while fb  < 10**999:\n",
      "        fa, fb = fb, fa+fb\n",
      "        idx += 1\n",
      "    return idx"
     ],
     "language": "python",
     "metadata": {},
     "outputs": [],
     "prompt_number": 16
    },
    {
     "cell_type": "code",
     "collapsed": false,
     "input": [
      "4782 == prob25_1()"
     ],
     "language": "python",
     "metadata": {},
     "outputs": [
      {
       "metadata": {},
       "output_type": "pyout",
       "prompt_number": 17,
       "text": [
        "True"
       ]
      }
     ],
     "prompt_number": 17
    },
    {
     "cell_type": "code",
     "collapsed": false,
     "input": [
      "%timeit prob25_1()"
     ],
     "language": "python",
     "metadata": {},
     "outputs": [
      {
       "output_type": "stream",
       "stream": "stdout",
       "text": [
        "100 loops, best of 3: 5.61 ms per loop\n"
       ]
      }
     ],
     "prompt_number": 18
    },
    {
     "cell_type": "code",
     "collapsed": false,
     "input": [],
     "language": "python",
     "metadata": {},
     "outputs": []
    }
   ],
   "metadata": {}
  }
 ]
}