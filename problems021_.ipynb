{
 "metadata": {
  "name": ""
 },
 "nbformat": 3,
 "nbformat_minor": 0,
 "worksheets": [
  {
   "cells": [
    {
     "cell_type": "code",
     "collapsed": false,
     "input": [
      "from functools import reduce\n",
      "from operator import mul\n",
      "from math import sqrt, factorial, log, log10\n",
      "\n",
      "import numpy as np\n",
      "from scipy.special import lambertw\n",
      "import pandas as pd\n",
      "\n",
      "import util"
     ],
     "language": "python",
     "metadata": {},
     "outputs": [],
     "prompt_number": 1
    },
    {
     "cell_type": "code",
     "collapsed": false,
     "input": [
      "%load_ext cythonmagic"
     ],
     "language": "python",
     "metadata": {},
     "outputs": [],
     "prompt_number": 2
    },
    {
     "cell_type": "code",
     "collapsed": false,
     "input": [
      "import pyximport\n",
      "_ = pyximport.install()\n",
      "\n",
      "import common"
     ],
     "language": "python",
     "metadata": {},
     "outputs": [],
     "prompt_number": 3
    },
    {
     "cell_type": "markdown",
     "metadata": {},
     "source": [
      "##[Problem 21](http://projecteuler.net/problem=21): Amicable numbers\n",
      "---\n",
      "\n",
      "Let $d(n)$ be defined as the sum of proper divisors of n (numbers less than n which divide evenly into n).\n",
      "If $d(a) = b$ and $d(b) = a$, where a  b, then a and b are an amicable pair and each of a and b are called amicable numbers.\n",
      "\n",
      "For example, the proper divisors of $220$ are $1, 2, 4, 5, 10, 11, 20, 22, 44, 55 ~\\text{and}~ 110$; therefore $d(220) = 284$. \n",
      "The proper divisors of $284$ are $1, 2, 4, 71 ~\\text{and}~ 142$; so $d(284) = 220$.\n",
      "\n",
      "Evaluate the sum of all the amicable numbers under 10000."
     ]
    },
    {
     "cell_type": "code",
     "collapsed": false,
     "input": [
      "def d(num):\n",
      "    if num <= 1:\n",
      "        return 0\n",
      "    divisors_sum = 1\n",
      "    for divisor in range(2, int(sqrt(num))+1):\n",
      "        if num % divisor == 0:\n",
      "            divisors_sum = divisors_sum + divisor + num//divisor\n",
      "    return divisors_sum\n",
      "def prob21_1(upper=10000):\n",
      "    amicnum = set()\n",
      "    for i in range(3, upper):\n",
      "        di = d(i)\n",
      "        if di != i and d(di) == i:\n",
      "            amicnum.add(i)\n",
      "            amicnum.add(di)\n",
      "    return sum(amicnum)"
     ],
     "language": "python",
     "metadata": {},
     "outputs": [],
     "prompt_number": 4
    },
    {
     "cell_type": "code",
     "collapsed": false,
     "input": [
      "31626 == prob21_1()"
     ],
     "language": "python",
     "metadata": {},
     "outputs": [
      {
       "metadata": {},
       "output_type": "pyout",
       "prompt_number": 5,
       "text": [
        "True"
       ]
      }
     ],
     "prompt_number": 5
    },
    {
     "cell_type": "code",
     "collapsed": false,
     "input": [
      "%timeit prob21_1()"
     ],
     "language": "python",
     "metadata": {},
     "outputs": [
      {
       "output_type": "stream",
       "stream": "stdout",
       "text": [
        "1 loops, best of 3: 364 ms per loop\n"
       ]
      }
     ],
     "prompt_number": 6
    },
    {
     "cell_type": "markdown",
     "metadata": {},
     "source": [
      "##[Problem 22](http://projecteuler.net/problem=22): Names scores\n",
      "---\n",
      "\n",
      "Using names.txt (right click and 'Save Link/Target As...'), a 46K text file containing over five-thousand first names, begin by sorting it into alphabetical order. Then working out the alphabetical value for each name, multiply this value by its alphabetical position in the list to obtain a name score.\n",
      "\n",
      "For example, when the list is sorted into alphabetical order, COLIN, which is worth $3 + 15 + 12 + 9 + 14 = 53$, is the 938th name in the list. So, COLIN would obtain a score of $938 \\times 53 = 49714$.\n",
      "\n",
      "What is the total of all the name scores in the file?"
     ]
    },
    {
     "cell_type": "code",
     "collapsed": false,
     "input": [
      "import string\n",
      "def avalue(name):\n",
      "    return sum([string.ascii_uppercase.find(i) for i in name]) + len(name)\n",
      "def prob22_1(file = 'inputs/input_22.txt'):\n",
      "    ttscore = 0\n",
      "    names = open(file, 'r').read()\n",
      "    names = names.split(',')\n",
      "    names.sort()\n",
      "    for i in range(len(names)):\n",
      "        ttscore += (i+1) * avalue(names[i])\n",
      "    return ttscore"
     ],
     "language": "python",
     "metadata": {},
     "outputs": [],
     "prompt_number": 7
    },
    {
     "cell_type": "code",
     "collapsed": false,
     "input": [
      "871198282 == prob22_1()"
     ],
     "language": "python",
     "metadata": {},
     "outputs": [
      {
       "metadata": {},
       "output_type": "pyout",
       "prompt_number": 8,
       "text": [
        "True"
       ]
      }
     ],
     "prompt_number": 8
    },
    {
     "cell_type": "code",
     "collapsed": false,
     "input": [
      "%timeit prob22_1()"
     ],
     "language": "python",
     "metadata": {},
     "outputs": [
      {
       "output_type": "stream",
       "stream": "stdout",
       "text": [
        "10 loops, best of 3: 52.2 ms per loop\n"
       ]
      }
     ],
     "prompt_number": 9
    },
    {
     "cell_type": "markdown",
     "metadata": {},
     "source": [
      "##[Problem 23](http://projecteuler.net/problem=23): Non-abundant sums\n",
      "---\n",
      "\n",
      "A perfect number is a number for which the sum of its proper divisors is exactly equal to the number. \n",
      "For example, the sum of the proper divisors of 28 would be $1 + 2 + 4 + 7 + 14 = 28$, \n",
      "which means that 28 is a perfect number.\n",
      "\n",
      "A number n is called deficient if the sum of its proper divisors is less than n \n",
      "and it is called abundant if this sum exceeds n.\n",
      "\n",
      "As 12 is the smallest abundant number, $1 + 2 + 3 + 4 + 6 = 16$, \n",
      "the smallest number that can be written as the sum of two abundant numbers is 24. \n",
      "By mathematical analysis, \n",
      "it can be shown that all integers greater than $28123$ can be written as the sum of two abundant numbers. \n",
      "However, this upper limit cannot be reduced any further by analysis \n",
      "even though it is known that the greatest number that \n",
      "cannot be expressed as the sum of two abundant numbers is less than this limit.\n",
      "\n",
      "Find the sum of all the positive integers which cannot be written as the sum of two abundant numbers."
     ]
    },
    {
     "cell_type": "code",
     "collapsed": false,
     "input": [
      "%%cython\n",
      "from math import sqrt\n",
      "def d(long num):\n",
      "    cdef long divisor\n",
      "    if num <= 1:\n",
      "        return 0\n",
      "    divisors = set()\n",
      "    for divisor in range(2, int(sqrt(num))+1):\n",
      "        if num % divisor == 0:\n",
      "            divisors.add(divisor)\n",
      "            divisors.add(num//divisor)\n",
      "    return sum(divisors)\n",
      "\n",
      "abds = set(i for i in range(1,28123) if d(i)>i)\n",
      "\n",
      "def abdtsumable(i):\n",
      "    return any(i-a in abds for a in abds)\n",
      "\n",
      "def prob23_1(upper=28123):\n",
      "    lst = [i for i in range(1,upper+1) if not abdtsumable(i)]\n",
      "    return sum(lst)"
     ],
     "language": "python",
     "metadata": {},
     "outputs": [],
     "prompt_number": 10
    },
    {
     "cell_type": "code",
     "collapsed": false,
     "input": [
      "4179871 == prob23_1()"
     ],
     "language": "python",
     "metadata": {},
     "outputs": [
      {
       "metadata": {},
       "output_type": "pyout",
       "prompt_number": 11,
       "text": [
        "True"
       ]
      }
     ],
     "prompt_number": 11
    },
    {
     "cell_type": "code",
     "collapsed": false,
     "input": [
      "%timeit prob23_1()"
     ],
     "language": "python",
     "metadata": {},
     "outputs": [
      {
       "output_type": "stream",
       "stream": "stdout",
       "text": [
        "1 loops, best of 3: 2.82 s per loop\n"
       ]
      }
     ],
     "prompt_number": 12
    },
    {
     "cell_type": "markdown",
     "metadata": {},
     "source": [
      "##[Problem 24](http://projecteuler.net/problem=24): Lexicographic permutations\n",
      "---\n",
      "\n",
      "A permutation is an ordered arrangement of objects. For example, 3124 is one possible permutation of the digits $1, 2, 3 ~\\text{and}~ 4$. If all of the permutations are listed numerically or alphabetically, we call it lexicographic order. The lexicographic permutations of 0, 1 and 2 are:\n",
      "\n",
      "$012  ~ 021 ~  102  ~ 120  ~ 201  ~ 210$\n",
      "\n",
      "What is the millionth lexicographic permutation of the digits $0, 1, 2, 3, 4, 5, 6, 7, 8 ~\\text{and}~ 9$?"
     ]
    },
    {
     "cell_type": "code",
     "collapsed": false,
     "input": [
      "def prob24_1():\n",
      "    from itertools import permutations\n",
      "    lst = list(permutations(range(10), 10))\n",
      "    lst.sort()\n",
      "    return int(''.join(map(str, lst[10**6-1])))"
     ],
     "language": "python",
     "metadata": {},
     "outputs": [],
     "prompt_number": 13
    },
    {
     "cell_type": "code",
     "collapsed": false,
     "input": [
      "2783915460 == prob24_1()"
     ],
     "language": "python",
     "metadata": {},
     "outputs": [
      {
       "metadata": {},
       "output_type": "pyout",
       "prompt_number": 14,
       "text": [
        "True"
       ]
      }
     ],
     "prompt_number": 14
    },
    {
     "cell_type": "code",
     "collapsed": false,
     "input": [
      "%timeit prob24_1()"
     ],
     "language": "python",
     "metadata": {},
     "outputs": [
      {
       "output_type": "stream",
       "stream": "stdout",
       "text": [
        "1 loops, best of 3: 1.83 s per loop\n"
       ]
      }
     ],
     "prompt_number": 15
    },
    {
     "cell_type": "markdown",
     "metadata": {},
     "source": [
      "##[Problem 25](http://projecteuler.net/problem=25): 1000-digit Fibonacci number\n",
      "---\n",
      "\n",
      "The Fibonacci sequence is defined by the recurrence relation:\n",
      "\n",
      "$F_n = F_{n1} + F_{n2}$, where $F_1 = 1$ and $F_2 = 1$.\n",
      "Hence the first 12 terms will be:\n",
      "$$\n",
      "F_1 = 1\\\\\n",
      "F_2 = 1\\\\\n",
      "F_3 = 2\\\\\n",
      "F_4 = 3\\\\\n",
      "F_5 = 5\\\\\n",
      "F_6 = 8\\\\\n",
      "F_7 = 13\\\\\n",
      "F_8 = 21\\\\\n",
      "F_9 = 34\\\\\n",
      "F_{10} = 55\\\\\n",
      "F_{11} = 89\\\\\n",
      "F_{12} = 144$$\n",
      "The 12th term, $F_{12}$, is the first term to contain three digits.\n",
      "\n",
      "What is the first term in the Fibonacci sequence to contain 1000 digits?"
     ]
    },
    {
     "cell_type": "code",
     "collapsed": false,
     "input": [
      "def prob25_1():\n",
      "    fa = 1\n",
      "    fb = 1\n",
      "    idx =2\n",
      "    while fb  < 10**999:\n",
      "        fa, fb = fb, fa+fb\n",
      "        idx += 1\n",
      "    return idx"
     ],
     "language": "python",
     "metadata": {},
     "outputs": [],
     "prompt_number": 16
    },
    {
     "cell_type": "code",
     "collapsed": false,
     "input": [
      "4782 == prob25_1()"
     ],
     "language": "python",
     "metadata": {},
     "outputs": [
      {
       "metadata": {},
       "output_type": "pyout",
       "prompt_number": 17,
       "text": [
        "True"
       ]
      }
     ],
     "prompt_number": 17
    },
    {
     "cell_type": "code",
     "collapsed": false,
     "input": [
      "%timeit prob25_1()"
     ],
     "language": "python",
     "metadata": {},
     "outputs": [
      {
       "output_type": "stream",
       "stream": "stdout",
       "text": [
        "100 loops, best of 3: 5.61 ms per loop\n"
       ]
      }
     ],
     "prompt_number": 18
    },
    {
     "cell_type": "markdown",
     "metadata": {},
     "source": [
      "##[Problem 26](http://projecteuler.net/problem=26): Reciprocal cycles\n",
      "---"
     ]
    },
    {
     "cell_type": "code",
     "collapsed": false,
     "input": [
      "def prob26_1(dmax=1000):\n",
      "    de = 3\n",
      "    repsmax = 1\n",
      "    for d in range(2, dmax):\n",
      "        # print(d)\n",
      "        q, r = 0, 1\n",
      "        reminders = [1]\n",
      "        reps=0\n",
      "        while r != 0:\n",
      "            q, r = r*10//d, r*10%d\n",
      "            # print('\\t', q, r)\n",
      "            if r in reminders:\n",
      "                reps = len(reminders) - reminders.index(r)\n",
      "                break\n",
      "            reminders.append(r)\n",
      "        if reps > repsmax:\n",
      "            de = d\n",
      "            repsmax = reps\n",
      "    return de"
     ],
     "language": "python",
     "metadata": {},
     "outputs": [],
     "prompt_number": 19
    },
    {
     "cell_type": "code",
     "collapsed": false,
     "input": [
      "983 == prob26_1()"
     ],
     "language": "python",
     "metadata": {},
     "outputs": [
      {
       "metadata": {},
       "output_type": "pyout",
       "prompt_number": 20,
       "text": [
        "True"
       ]
      }
     ],
     "prompt_number": 20
    },
    {
     "cell_type": "code",
     "collapsed": false,
     "input": [
      "%timeit prob26_1()"
     ],
     "language": "python",
     "metadata": {},
     "outputs": [
      {
       "output_type": "stream",
       "stream": "stdout",
       "text": [
        "1 loops, best of 3: 858 ms per loop\n"
       ]
      }
     ],
     "prompt_number": 21
    },
    {
     "cell_type": "markdown",
     "metadata": {},
     "source": [
      "##[Problem 27](http://projecteuler.net/problem=27): Quadratic primes\n",
      "---\n",
      "\n",
      "Euler discovered the remarkable quadratic formula:\n",
      "\n",
      "$$n^2 + n + 41$$\n",
      "\n",
      "It turns out that the formula will produce 40 primes for the consecutive values n = 0 to 39. However, when n = 40, $40^2 + 40 + 41 = 40(40 + 1) + 41$ is divisible by 41, and certainly when n = 41, $41^2 + 41 + 41$ is clearly divisible by 41.\n",
      "\n",
      "The incredible formula  $n^2 - 79n + 1601$ was discovered, which produces 80 primes for the consecutive values n = 0 to 79. The product of the coefficients, 79 and 1601, is 126479.\n",
      "\n",
      "Considering quadratics of the form:\n",
      "\n",
      "$n^2 + an + b$, where $|a| < 1000$ and $|b| < 1000$\n",
      "\n",
      "where $|n|$ is the modulus/absolute value of n\n",
      "e.g. $|11| = 11$ and $|4| = 4$\n",
      "Find the product of the coefficients, a and b, for the quadratic expression that produces the maximum number of primes for consecutive values of n, starting with n = 0."
     ]
    },
    {
     "cell_type": "code",
     "collapsed": false,
     "input": [
      "def prob27(amax=1000, bmax=1000):\n",
      "    maxcons = 0\n",
      "    for b in common.primes(bmax):\n",
      "        for a in range(-amax+1, amax):\n",
      "            cons = 0\n",
      "            while (common.isPrime(cons**2 + a* cons + b)):\n",
      "                cons += 1\n",
      "            if cons > maxcons:\n",
      "                maxcons = cons\n",
      "                rest = a * b\n",
      "    return rest"
     ],
     "language": "python",
     "metadata": {},
     "outputs": [],
     "prompt_number": 22
    },
    {
     "cell_type": "code",
     "collapsed": false,
     "input": [
      "-59231 == prob27()"
     ],
     "language": "python",
     "metadata": {},
     "outputs": [
      {
       "metadata": {},
       "output_type": "pyout",
       "prompt_number": 23,
       "text": [
        "True"
       ]
      }
     ],
     "prompt_number": 23
    },
    {
     "cell_type": "code",
     "collapsed": false,
     "input": [
      "%timeit prob27()"
     ],
     "language": "python",
     "metadata": {},
     "outputs": [
      {
       "output_type": "stream",
       "stream": "stdout",
       "text": [
        "1 loops, best of 3: 3.44 s per loop\n"
       ]
      }
     ],
     "prompt_number": 24
    },
    {
     "cell_type": "markdown",
     "metadata": {},
     "source": [
      "##[Problem 28](http://projecteuler.net/problem=28): Number spiral diagonals\n",
      "---\n",
      "\n",
      "Starting with the number 1 and moving to the right in a clockwise direction a 5 by 5 spiral is formed as follows:\n",
      "\n",
      "<p style=\"text-align:center;font-family:courier new;\"><span style=\"color:#ff0000;font-family:courier new;\"><b>21</b></span> 22 23 24 <span style=\"color:#ff0000;font-family:courier new;\"><b>25</b></span><br>\n",
      "20 &nbsp;<span style=\"color:#ff0000;font-family:courier new;\"><b>7</b></span> &nbsp;8 &nbsp;<span style=\"color:#ff0000;font-family:courier new;\"><b>9</b></span> 10<br>\n",
      "19 &nbsp;6 &nbsp;<span style=\"color:#ff0000;font-family:courier new;\"><b>1</b></span> &nbsp;2 11<br>\n",
      "18 &nbsp;<span style=\"color:#ff0000;font-family:courier new;\"><b>5</b></span> &nbsp;4 &nbsp;<span style=\"color:#ff0000;font-family:courier new;\"><b>3</b></span> 12<br>\n",
      "<span style=\"color:#ff0000;font-family:courier new;\"><b>17</b></span> 16 15 14 <span style=\"color:#ff0000;font-family:courier new;\"><b>13</b></span></p>\n",
      "\n",
      "It can be verified that the sum of the numbers on the diagonals is 101.\n",
      "\n",
      "What is the sum of the numbers on the diagonals in a 1001 by 1001 spiral formed in the same way?"
     ]
    },
    {
     "cell_type": "code",
     "collapsed": false,
     "input": [
      "def prob28_1(n=1001):\n",
      "    return sum(4*i**2-6*(i-1) for i in range(3, n+1, 2))+1"
     ],
     "language": "python",
     "metadata": {},
     "outputs": [],
     "prompt_number": 25
    },
    {
     "cell_type": "code",
     "collapsed": false,
     "input": [
      "669171001 == prob28_1()"
     ],
     "language": "python",
     "metadata": {},
     "outputs": [
      {
       "metadata": {},
       "output_type": "pyout",
       "prompt_number": 26,
       "text": [
        "True"
       ]
      }
     ],
     "prompt_number": 26
    },
    {
     "cell_type": "code",
     "collapsed": false,
     "input": [
      "%timeit prob28_1()"
     ],
     "language": "python",
     "metadata": {},
     "outputs": [
      {
       "output_type": "stream",
       "stream": "stdout",
       "text": [
        "1000 loops, best of 3: 545 \u00b5s per loop\n"
       ]
      }
     ],
     "prompt_number": 27
    },
    {
     "cell_type": "markdown",
     "metadata": {},
     "source": [
      "##[Problem 29](http://projecteuler.net/problem=29): Distinct powers\n",
      "---\n",
      "\n",
      "Consider all integer combinations of ab for 2  a  5 and 2  b  5:\n",
      "\n",
      "$$2^2=4, 2^3=8, 2^4=16, 2^5=32\\\\\n",
      "3^2=9, 3^3=27, 3^4=81, 3^5=243\\\\\n",
      "4^2=16, 4^3=64, 4^4=256, 4^5=1024\\\\\n",
      "5^2=25, 5^3=125, 5^4=625, 5^5=3125$$\n",
      "\n",
      "If they are then placed in numerical order, with any repeats removed, we get the following sequence of 15 distinct terms:\n",
      "\n",
      "$4, 8, 9, 16, 25, 27, 32, 64, 81, 125, 243, 256, 625, 1024, 3125$\n",
      "\n",
      "How many distinct terms are in the sequence generated by ab for $2 \\leq a \\leq 100$ and $2 \\leq b \\leq 100$?"
     ]
    },
    {
     "cell_type": "code",
     "collapsed": false,
     "input": [
      "def prob29_1(amax=100, bmax=100):\n",
      "    return len(set(a**b for a in range(2, amax+1) for b in range(2, bmax+1)))"
     ],
     "language": "python",
     "metadata": {},
     "outputs": [],
     "prompt_number": 28
    },
    {
     "cell_type": "code",
     "collapsed": false,
     "input": [
      "9183 == prob29_1()"
     ],
     "language": "python",
     "metadata": {},
     "outputs": [
      {
       "metadata": {},
       "output_type": "pyout",
       "prompt_number": 29,
       "text": [
        "True"
       ]
      }
     ],
     "prompt_number": 29
    },
    {
     "cell_type": "code",
     "collapsed": false,
     "input": [
      "%timeit prob29_1()"
     ],
     "language": "python",
     "metadata": {},
     "outputs": [
      {
       "output_type": "stream",
       "stream": "stdout",
       "text": [
        "100 loops, best of 3: 18.8 ms per loop\n"
       ]
      }
     ],
     "prompt_number": 30
    },
    {
     "cell_type": "markdown",
     "metadata": {},
     "source": [
      "##[Problem 30](http://projecteuler.net/problem=30): Digit fifth powers\n",
      "---\n",
      "\n",
      "Surprisingly there are only three numbers that can be written as the sum of fourth powers of their digits:\n",
      "\n",
      "$$\n",
      "1634 = 1^4 + 6^4 + 3^4 + 4^4 \\\\\n",
      "8208 = 8^4 + 2^4 + 0^4 + 8^4 \\\\\n",
      "9474 = 9^4 + 4^4 + 7^4 + 4^4 \\\\\n",
      "$$\n",
      "As $1 = 1^4$ is not a sum it is not included.\n",
      "\n",
      "The sum of these numbers is $1634 + 8208 + 9474 = 19316$.\n",
      "\n",
      "Find the sum of all the numbers that can be written as the sum of fifth powers of their digits."
     ]
    },
    {
     "cell_type": "code",
     "collapsed": false,
     "input": [
      "def prob30_1(powers=5):\n",
      "    upper = int(-(lambertw(-9**(-powers)*log(10), -1)).real/log(10))+1\n",
      "    sums = 0\n",
      "    for i in range(10**upper):\n",
      "        sumpower = 0\n",
      "        num = i\n",
      "        while i>0:\n",
      "            i, sumpower = i//10, sumpower + (i%10)**5\n",
      "        if sumpower == num:\n",
      "            sums += sumpower\n",
      "    return sums - 1"
     ],
     "language": "python",
     "metadata": {},
     "outputs": [],
     "prompt_number": 31
    },
    {
     "cell_type": "code",
     "collapsed": false,
     "input": [
      "443839 == prob30_1()"
     ],
     "language": "python",
     "metadata": {},
     "outputs": [
      {
       "metadata": {},
       "output_type": "pyout",
       "prompt_number": 32,
       "text": [
        "True"
       ]
      }
     ],
     "prompt_number": 32
    },
    {
     "cell_type": "code",
     "collapsed": false,
     "input": [
      "%timeit prob30_1()"
     ],
     "language": "python",
     "metadata": {},
     "outputs": [
      {
       "output_type": "stream",
       "stream": "stdout",
       "text": [
        "1 loops, best of 3: 6.64 s per loop\n"
       ]
      }
     ],
     "prompt_number": 33
    },
    {
     "cell_type": "code",
     "collapsed": false,
     "input": [],
     "language": "python",
     "metadata": {},
     "outputs": []
    }
   ],
   "metadata": {}
  }
 ]
}