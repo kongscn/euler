{
 "metadata": {
  "name": ""
 },
 "nbformat": 3,
 "nbformat_minor": 0,
 "worksheets": [
  {
   "cells": [
    {
     "cell_type": "code",
     "collapsed": false,
     "input": [
      "from functools import reduce\n",
      "from operator import mul\n",
      "from math import sqrt\n",
      "\n",
      "import numpy as np\n",
      "import pandas as pd\n",
      "\n",
      "import util"
     ],
     "language": "python",
     "metadata": {},
     "outputs": [],
     "prompt_number": 1
    },
    {
     "cell_type": "code",
     "collapsed": false,
     "input": [
      "%load_ext cythonmagic"
     ],
     "language": "python",
     "metadata": {},
     "outputs": [],
     "prompt_number": 2
    },
    {
     "cell_type": "code",
     "collapsed": false,
     "input": [
      "import pyximport\n",
      "_ = pyximport.install()\n",
      "\n",
      "import common"
     ],
     "language": "python",
     "metadata": {},
     "outputs": [],
     "prompt_number": 3
    },
    {
     "cell_type": "markdown",
     "metadata": {},
     "source": [
      "##[Problem 11](http://projecteuler.net/problem=11): Largest product in a grid\n",
      "---\n",
      "\n",
      "In the 20\u00d720 grid below, four numbers along a diagonal line have been marked in red.\n",
      "\n",
      "    08 02 22 97 38 15 00 40 00 75 04 05 07 78 52 12 50 77 91 08\n",
      "    49 49 99 40 17 81 18 57 60 87 17 40 98 43 69 48 04 56 62 00\n",
      "    81 49 31 73 55 79 14 29 93 71 40 67 53 88 30 03 49 13 36 65\n",
      "    52 70 95 23 04 60 11 42 69 24 68 56 01 32 56 71 37 02 36 91\n",
      "    22 31 16 71 51 67 63 89 41 92 36 54 22 40 40 28 66 33 13 80\n",
      "    24 47 32 60 99 03 45 02 44 75 33 53 78 36 84 20 35 17 12 50\n",
      "    32 98 81 28 64 23 67 10 26 38 40 67 59 54 70 66 18 38 64 70\n",
      "    67 26 20 68 02 62 12 20 95 63 94 39 63 08 40 91 66 49 94 21\n",
      "    24 55 58 05 66 73 99 26 97 17 78 78 96 83 14 88 34 89 63 72\n",
      "    21 36 23 09 75 00 76 44 20 45 35 14 00 61 33 97 34 31 33 95\n",
      "    78 17 53 28 22 75 31 67 15 94 03 80 04 62 16 14 09 53 56 92\n",
      "    16 39 05 42 96 35 31 47 55 58 88 24 00 17 54 24 36 29 85 57\n",
      "    86 56 00 48 35 71 89 07 05 44 44 37 44 60 21 58 51 54 17 58\n",
      "    19 80 81 68 05 94 47 69 28 73 92 13 86 52 17 77 04 89 55 40\n",
      "    04 52 08 83 97 35 99 16 07 97 57 32 16 26 26 79 33 27 98 66\n",
      "    88 36 68 87 57 62 20 72 03 46 33 67 46 55 12 32 63 93 53 69\n",
      "    04 42 16 73 38 25 39 11 24 94 72 18 08 46 29 32 40 62 76 36\n",
      "    20 69 36 41 72 30 23 88 34 62 99 69 82 67 59 85 74 04 36 16\n",
      "    20 73 35 29 78 31 90 01 74 31 49 71 48 86 81 16 23 57 05 54\n",
      "    01 70 54 71 83 51 54 69 16 92 33 48 61 43 52 01 89 19 67 48\n",
      "\n",
      "The product of these numbers is $26 \u00d7 63 \u00d7 78 \u00d7 14 = 1788696$.\n",
      "\n",
      "What is the greatest product of four adjacent numbers in the same direction (up, down, left, right, or diagonally) in the 20\u00d720 grid?\n"
     ]
    },
    {
     "cell_type": "code",
     "collapsed": false,
     "input": [
      "input_11='''08 02 22 97 38 15 00 40 00 75 04 05 07 78 52 12 50 77 91 08\n",
      "49 49 99 40 17 81 18 57 60 87 17 40 98 43 69 48 04 56 62 00\n",
      "81 49 31 73 55 79 14 29 93 71 40 67 53 88 30 03 49 13 36 65\n",
      "52 70 95 23 04 60 11 42 69 24 68 56 01 32 56 71 37 02 36 91\n",
      "22 31 16 71 51 67 63 89 41 92 36 54 22 40 40 28 66 33 13 80\n",
      "24 47 32 60 99 03 45 02 44 75 33 53 78 36 84 20 35 17 12 50\n",
      "32 98 81 28 64 23 67 10 26 38 40 67 59 54 70 66 18 38 64 70\n",
      "67 26 20 68 02 62 12 20 95 63 94 39 63 08 40 91 66 49 94 21\n",
      "24 55 58 05 66 73 99 26 97 17 78 78 96 83 14 88 34 89 63 72\n",
      "21 36 23 09 75 00 76 44 20 45 35 14 00 61 33 97 34 31 33 95\n",
      "78 17 53 28 22 75 31 67 15 94 03 80 04 62 16 14 09 53 56 92\n",
      "16 39 05 42 96 35 31 47 55 58 88 24 00 17 54 24 36 29 85 57\n",
      "86 56 00 48 35 71 89 07 05 44 44 37 44 60 21 58 51 54 17 58\n",
      "19 80 81 68 05 94 47 69 28 73 92 13 86 52 17 77 04 89 55 40\n",
      "04 52 08 83 97 35 99 16 07 97 57 32 16 26 26 79 33 27 98 66\n",
      "88 36 68 87 57 62 20 72 03 46 33 67 46 55 12 32 63 93 53 69\n",
      "04 42 16 73 38 25 39 11 24 94 72 18 08 46 29 32 40 62 76 36\n",
      "20 69 36 41 72 30 23 88 34 62 99 69 82 67 59 85 74 04 36 16\n",
      "20 73 35 29 78 31 90 01 74 31 49 71 48 86 81 16 23 57 05 54\n",
      "01 70 54 71 83 51 54 69 16 92 33 48 61 43 52 01 89 19 67 48'''\n",
      "\n",
      "input_11 = util.as2darray(input_11)"
     ],
     "language": "python",
     "metadata": {},
     "outputs": [],
     "prompt_number": 4
    },
    {
     "cell_type": "code",
     "collapsed": false,
     "input": [
      "def prob11_1(input, s=4):\n",
      "    maxprod = 1\n",
      "    for r in range(input.shape[0]-s+1):\n",
      "        for c in range(input.shape[1]-s+1):\n",
      "            rtimes = reduce(mul, input[r:r+s, c])\n",
      "            dtimes = reduce(mul, input[r, c:c+s])\n",
      "            drtimes = reduce(mul, input[r:r+s, c:c+s].diagonal())\n",
      "            dltimes = reduce(mul, np.fliplr(input[r:r+s, c:c+s]).diagonal())\n",
      "            maxprod = max(maxprod, rtimes, dtimes, drtimes, dltimes)\n",
      "    return maxprod"
     ],
     "language": "python",
     "metadata": {},
     "outputs": [],
     "prompt_number": 5
    },
    {
     "cell_type": "code",
     "collapsed": false,
     "input": [
      "70600674 == prob11_1(input_11)"
     ],
     "language": "python",
     "metadata": {},
     "outputs": [
      {
       "metadata": {},
       "output_type": "pyout",
       "prompt_number": 6,
       "text": [
        "True"
       ]
      }
     ],
     "prompt_number": 6
    },
    {
     "cell_type": "code",
     "collapsed": false,
     "input": [
      "%timeit prob11_1(input_11)"
     ],
     "language": "python",
     "metadata": {},
     "outputs": [
      {
       "output_type": "stream",
       "stream": "stdout",
       "text": [
        "100 loops, best of 3: 11.6 ms per loop\n"
       ]
      }
     ],
     "prompt_number": 7
    },
    {
     "cell_type": "markdown",
     "metadata": {},
     "source": [
      "##[Problem 12](http://projecteuler.net/problem=12): Highly divisible triangular number\n",
      "---\n",
      "\n",
      "The sequence of triangle numbers is generated by adding the natural numbers. So the 7th triangle number would be $1 + 2 + 3 + 4 + 5 + 6 + 7 = 28$. The first ten terms would be:\n",
      "\n",
      "$1, 3, 6, 10, 15, 21, 28, 36, 45, 55, ...$\n",
      "\n",
      "Let us list the factors of the first seven triangle numbers:\n",
      "\n",
      "     1: 1\n",
      "     3: 1,3\n",
      "     6: 1,2,3,6\n",
      "    10: 1,2,5,10\n",
      "    15: 1,3,5,15\n",
      "    21: 1,3,7,21\n",
      "    28: 1,2,4,7,14,28\n",
      "We can see that 28 is the first triangle number to have over five divisors.\n",
      "\n",
      "What is the value of the first triangle number to have over five hundred divisors?"
     ]
    },
    {
     "cell_type": "code",
     "collapsed": false,
     "input": [
      "def prob12_1(total=500):\n",
      "    i = 1\n",
      "    while 1:\n",
      "        i += 1\n",
      "        divisors = 1\n",
      "        no = sum(range(i))\n",
      "        sqroot = sqrt(no)\n",
      "        if int(sqroot) == sqroot:\n",
      "            divisors += 1\n",
      "        for j in range(2, int(sqroot)):\n",
      "            if no % j == 0:\n",
      "                divisors += 2\n",
      "        if divisors > total:\n",
      "            return no"
     ],
     "language": "python",
     "metadata": {},
     "outputs": [],
     "prompt_number": 8
    },
    {
     "cell_type": "code",
     "collapsed": false,
     "input": [
      "def prob12_2(total=500):\n",
      "    i = 1\n",
      "    while 1:\n",
      "        i += 1\n",
      "        no = sum(range(i))\n",
      "        supers = list(common.primefactorize(no).values())\n",
      "        if (1+np.array(supers)).prod() > 500:\n",
      "            return no"
     ],
     "language": "python",
     "metadata": {},
     "outputs": [],
     "prompt_number": 9
    },
    {
     "cell_type": "code",
     "collapsed": false,
     "input": [
      "76576500 == prob12_1() == prob12_2()"
     ],
     "language": "python",
     "metadata": {},
     "outputs": [
      {
       "metadata": {},
       "output_type": "pyout",
       "prompt_number": 10,
       "text": [
        "True"
       ]
      }
     ],
     "prompt_number": 10
    },
    {
     "cell_type": "code",
     "collapsed": false,
     "input": [
      "%timeit prob12_1()\n",
      "%timeit prob12_2()"
     ],
     "language": "python",
     "metadata": {},
     "outputs": [
      {
       "output_type": "stream",
       "stream": "stdout",
       "text": [
        "1 loops, best of 3: 19.8 s per loop\n",
        "1 loops, best of 3: 5.88 s per loop"
       ]
      },
      {
       "output_type": "stream",
       "stream": "stdout",
       "text": [
        "\n"
       ]
      }
     ],
     "prompt_number": 11
    },
    {
     "cell_type": "markdown",
     "metadata": {},
     "source": [
      "##[Problem 13](http://projecteuler.net/problem=13): Large sum\n",
      "---\n",
      "\n",
      "Work out the first ten digits of the sum of the following one-hundred 50-digit numbers."
     ]
    },
    {
     "cell_type": "code",
     "collapsed": false,
     "input": [
      "s = open('inputs/input_13.txt', 'r').read()\n",
      "numbers = util.asarray(s)"
     ],
     "language": "python",
     "metadata": {},
     "outputs": [],
     "prompt_number": 12
    },
    {
     "cell_type": "code",
     "collapsed": false,
     "input": [
      "def prob13_1(numbers):\n",
      "    return str(sum(numbers))[:10]"
     ],
     "language": "python",
     "metadata": {},
     "outputs": [],
     "prompt_number": 13
    },
    {
     "cell_type": "code",
     "collapsed": false,
     "input": [
      "'5537376230' == prob13_1(numbers)"
     ],
     "language": "python",
     "metadata": {},
     "outputs": [
      {
       "metadata": {},
       "output_type": "pyout",
       "prompt_number": 14,
       "text": [
        "True"
       ]
      }
     ],
     "prompt_number": 14
    },
    {
     "cell_type": "code",
     "collapsed": false,
     "input": [
      "%timeit prob13_1(numbers)"
     ],
     "language": "python",
     "metadata": {},
     "outputs": [
      {
       "output_type": "stream",
       "stream": "stdout",
       "text": [
        "10000 loops, best of 3: 25.9 \u00b5s per loop\n"
       ]
      }
     ],
     "prompt_number": 15
    },
    {
     "cell_type": "markdown",
     "metadata": {},
     "source": [
      "##[Problem 14](http://projecteuler.net/problem=14): Longest Collatz sequence\n",
      "---\n",
      "\n",
      "The following iterative sequence is defined for the set of positive integers:\n",
      "\n",
      "$$n \\rightarrow  n/2 ~\\text{(n is even)}$$\n",
      "$$n \\rightarrow 3n + 1 ~\\text{(n is odd)}$$\n",
      "\n",
      "Using the rule above and starting with 13, we generate the following sequence:\n",
      "\n",
      "$$13 \\rightarrow 40 \\rightarrow 20 \\rightarrow 10 \\rightarrow 5 \n",
      "\\rightarrow 16 \\rightarrow 8 \\rightarrow 4 \\rightarrow 2 \\rightarrow 1$$\n",
      "\n",
      "It can be seen that this sequence (starting at 13 and finishing at 1) contains 10 terms. \n",
      "Although it has not been proved yet (Collatz Problem), \n",
      "it is thought that all starting numbers finish at 1.\n",
      "\n",
      "Which starting number, under one million, produces the longest chain?\n",
      "\n",
      "NOTE: Once the chain starts the terms are allowed to go above one million."
     ]
    },
    {
     "cell_type": "code",
     "collapsed": false,
     "input": [
      "%%cython\n",
      "cdef long collatz_len(long long num):\n",
      "    cdef long l\n",
      "    l = 2\n",
      "    while num > 1:\n",
      "        l += 1\n",
      "        if num % 2:\n",
      "            num = num * 3 + 1\n",
      "        else:\n",
      "            num = num/2\n",
      "    return l\n",
      "\n",
      "def prob14_1(upper=10**6):\n",
      "    cdef long lmax, nmax, i, l\n",
      "    chainmax=1\n",
      "    nmax=1\n",
      "    for i in range(1, upper):\n",
      "        l = collatz_len(i)\n",
      "        if l > chainmax:\n",
      "            chainmax = l\n",
      "            nmax = i\n",
      "    return nmax"
     ],
     "language": "python",
     "metadata": {},
     "outputs": [],
     "prompt_number": 16
    },
    {
     "cell_type": "code",
     "collapsed": false,
     "input": [
      "837799 == prob14_1()"
     ],
     "language": "python",
     "metadata": {},
     "outputs": [
      {
       "metadata": {},
       "output_type": "pyout",
       "prompt_number": 17,
       "text": [
        "True"
       ]
      }
     ],
     "prompt_number": 17
    },
    {
     "cell_type": "code",
     "collapsed": false,
     "input": [
      "%timeit prob14_1()"
     ],
     "language": "python",
     "metadata": {},
     "outputs": [
      {
       "output_type": "stream",
       "stream": "stdout",
       "text": [
        "1 loops, best of 3: 5.14 s per loop\n"
       ]
      }
     ],
     "prompt_number": 18
    },
    {
     "cell_type": "markdown",
     "metadata": {},
     "source": [
      "##[Problem 15](http://projecteuler.net/problem=15): Lattice paths\n",
      "---\n",
      "\n",
      "Starting in the top left corner of a $2 \\times 2$ grid, and only being able to move to the right and down, there are exactly 6 routes to the bottom right corner.\n",
      "\n",
      "How many such routes are there through a $20 \\times 20$ grid?"
     ]
    },
    {
     "cell_type": "code",
     "collapsed": false,
     "input": [
      "import math as mt\n",
      "def prob15_1():\n",
      "    return mt.factorial(40)/mt.factorial(20)/mt.factorial(20)"
     ],
     "language": "python",
     "metadata": {},
     "outputs": [],
     "prompt_number": 19
    },
    {
     "cell_type": "code",
     "collapsed": false,
     "input": [
      "from scipy.misc import comb\n",
      "def prob15_2():\n",
      "    return comb(40, 20, exact=True)"
     ],
     "language": "python",
     "metadata": {},
     "outputs": [],
     "prompt_number": 20
    },
    {
     "cell_type": "code",
     "collapsed": false,
     "input": [
      "137846528820 == prob15_1() == prob15_2()"
     ],
     "language": "python",
     "metadata": {},
     "outputs": [
      {
       "metadata": {},
       "output_type": "pyout",
       "prompt_number": 21,
       "text": [
        "True"
       ]
      }
     ],
     "prompt_number": 21
    },
    {
     "cell_type": "code",
     "collapsed": false,
     "input": [
      "%timeit prob15_1()\n",
      "%timeit prob15_2()"
     ],
     "language": "python",
     "metadata": {},
     "outputs": [
      {
       "output_type": "stream",
       "stream": "stdout",
       "text": [
        "100000 loops, best of 3: 4.65 \u00b5s per loop\n",
        "100000 loops, best of 3: 11.3 \u00b5s per loop"
       ]
      },
      {
       "output_type": "stream",
       "stream": "stdout",
       "text": [
        "\n"
       ]
      }
     ],
     "prompt_number": 22
    },
    {
     "cell_type": "markdown",
     "metadata": {},
     "source": [
      "##[Problem 16](http://projecteuler.net/problem=16): Power digit sum\n",
      "\n",
      "$2^{15} = 32768$ and the sum of its digits is $3 + 2 + 7 + 6 + 8 = 26$.\n",
      "\n",
      "What is the sum of the digits of the number $2^{1000}$?"
     ]
    },
    {
     "cell_type": "code",
     "collapsed": false,
     "input": [
      "def prob16_1(number=2**1000):\n",
      "    return sum(list(map(int, str(number))))"
     ],
     "language": "python",
     "metadata": {},
     "outputs": [],
     "prompt_number": 23
    },
    {
     "cell_type": "code",
     "collapsed": false,
     "input": [
      "1366 == prob16_1()"
     ],
     "language": "python",
     "metadata": {},
     "outputs": [
      {
       "metadata": {},
       "output_type": "pyout",
       "prompt_number": 24,
       "text": [
        "True"
       ]
      }
     ],
     "prompt_number": 24
    },
    {
     "cell_type": "code",
     "collapsed": false,
     "input": [
      "%timeit prob16_1()"
     ],
     "language": "python",
     "metadata": {},
     "outputs": [
      {
       "output_type": "stream",
       "stream": "stdout",
       "text": [
        "1000 loops, best of 3: 210 \u00b5s per loop\n"
       ]
      }
     ],
     "prompt_number": 25
    },
    {
     "cell_type": "markdown",
     "metadata": {},
     "source": [
      "##[Problem 17](http://projecteuler.net/problem=17): Number letter counts\n",
      "---\n",
      "\n",
      "If the numbers 1 to 5 are written out in words: one, two, three, four, five, then there are $3 + 3 + 5 + 4 + 4 = 19$ letters used in total.\n",
      "\n",
      "If all the numbers from 1 to 1000 (one thousand) inclusive were written out in words, how many letters would be used?\n",
      "\n",
      "\n",
      "NOTE: Do not count spaces or hyphens. For example, 342 (three hundred and forty-two) contains 23 letters and 115 (one hundred and fifteen) contains 20 letters. The use of \"and\" when writing out numbers is in compliance with British usage."
     ]
    },
    {
     "cell_type": "code",
     "collapsed": false,
     "input": [
      "def prob17_1(upper=1000):\n",
      "    letters = 0\n",
      "    import inflect\n",
      "    p = inflect.engine().number_to_words\n",
      "    for i in range(1, upper+1):\n",
      "        words = p(i).replace(' ', '').replace('-', '')\n",
      "        letters += len(words)\n",
      "    return letters"
     ],
     "language": "python",
     "metadata": {},
     "outputs": [],
     "prompt_number": 26
    },
    {
     "cell_type": "code",
     "collapsed": false,
     "input": [
      "21124 == prob17_1()"
     ],
     "language": "python",
     "metadata": {},
     "outputs": [
      {
       "metadata": {},
       "output_type": "pyout",
       "prompt_number": 27,
       "text": [
        "True"
       ]
      }
     ],
     "prompt_number": 27
    },
    {
     "cell_type": "code",
     "collapsed": false,
     "input": [
      "%timeit prob17_1()"
     ],
     "language": "python",
     "metadata": {},
     "outputs": [
      {
       "output_type": "stream",
       "stream": "stdout",
       "text": [
        "10 loops, best of 3: 119 ms per loop\n"
       ]
      }
     ],
     "prompt_number": 28
    },
    {
     "cell_type": "markdown",
     "metadata": {},
     "source": [
      "##[Problem 18](http://projecteuler.net/problem=18): Maximum path sum I\n",
      "---\n",
      "\n",
      "By starting at the top of the triangle below and moving to adjacent numbers on the row below, the maximum total from top to bottom is 23.\n",
      "<p style=\"text-align:center;font-family:courier new;font-size:12pt;\">\n",
      "3<br>\n",
      "7 4<br>\n",
      "2 4 6<br>\n",
      "8 5 9 3<br>\n",
      "</p>\n",
      "\n",
      "That is, 3 + 7 + 4 + 9 = 23.\n",
      "\n",
      "Find the maximum total from top to bottom of the triangle below:\n",
      "\n",
      "    Stored in 'inputs\\input_18.txt'\n",
      "\n",
      "NOTE: As there are only 16384 routes, it is possible to solve this problem by trying every route. However, Problem 67, is the same challenge with a triangle containing one-hundred rows; it cannot be solved by brute force, and requires a clever method! ;o)"
     ]
    },
    {
     "cell_type": "code",
     "collapsed": false,
     "input": [
      "lst = util.asllist(open('inputs\\input_18.txt').read())"
     ],
     "language": "python",
     "metadata": {},
     "outputs": [],
     "prompt_number": 29
    },
    {
     "cell_type": "code",
     "collapsed": false,
     "input": [
      "%%cython\n",
      "def max_pathp_sum(lst, top=(0,0), total=None):\n",
      "    '''This algo could be very slow as lst becomes bigger,\n",
      "    thus is not a solution of problem 67, \n",
      "    but I'll leave it for now\n",
      "    '''\n",
      "    if total is None:\n",
      "        total = len(lst)\n",
      "    if top[0] == total-1:\n",
      "        return lst[top[0]][top[1]]\n",
      "    else:\n",
      "        left = max_pathp_sum(lst, (top[0]+1, top[1]), total)\n",
      "        right = max_pathp_sum(lst, (top[0]+1, top[1]+1), total)\n",
      "        return lst[top[0]][top[1]] + max(left, right)"
     ],
     "language": "python",
     "metadata": {},
     "outputs": [],
     "prompt_number": 30
    },
    {
     "cell_type": "code",
     "collapsed": false,
     "input": [
      "1074 == max_pathp_sum(lst)"
     ],
     "language": "python",
     "metadata": {},
     "outputs": [
      {
       "metadata": {},
       "output_type": "pyout",
       "prompt_number": 31,
       "text": [
        "True"
       ]
      }
     ],
     "prompt_number": 31
    },
    {
     "cell_type": "code",
     "collapsed": false,
     "input": [
      "%timeit max_pathp_sum(lst)"
     ],
     "language": "python",
     "metadata": {},
     "outputs": [
      {
       "output_type": "stream",
       "stream": "stdout",
       "text": [
        "100 loops, best of 3: 17.5 ms per loop\n"
       ]
      }
     ],
     "prompt_number": 32
    },
    {
     "cell_type": "markdown",
     "metadata": {},
     "source": [
      "##[Problem 19](http://projecteuler.net/problem=19): Counting Sundays\n",
      "---\n",
      "\n",
      "You are given the following information, but you may prefer to do some research for yourself.\n",
      "\n",
      "* 1 Jan 1900 was a Monday.\n",
      "* Thirty days has September,\n",
      "    April, June and November.\n",
      "    All the rest have thirty-one,\n",
      "    Saving February alone,\n",
      "    Which has twenty-eight, rain or shine.\n",
      "    And on leap years, twenty-nine.\n",
      "* A leap year occurs on any year evenly divisible by 4, but not on a century unless it is divisible by 400.\n",
      "\n",
      "How many Sundays fell on the first of the month during the twentieth century (1 Jan 1901 to 31 Dec 2000)?"
     ]
    },
    {
     "cell_type": "code",
     "collapsed": false,
     "input": [
      "def prob19_1(yearfrom=1901, yerto=2000):\n",
      "    '''A lazy method.\n",
      "    Add a full solution later.\n",
      "    '''\n",
      "    from datetime import datetime, timedelta\n",
      "    total = 0\n",
      "    for year in range(yearfrom, yerto+1):\n",
      "        dt = datetime(year, 1, 1)\n",
      "        for mon in range(1, 13):\n",
      "            dt = dt.replace(month=mon)\n",
      "            if dt.weekday() == 6:\n",
      "                total += 1\n",
      "    return total"
     ],
     "language": "python",
     "metadata": {},
     "outputs": [],
     "prompt_number": 33
    },
    {
     "cell_type": "code",
     "collapsed": false,
     "input": [
      "171 == prob19_1()"
     ],
     "language": "python",
     "metadata": {},
     "outputs": [
      {
       "metadata": {},
       "output_type": "pyout",
       "prompt_number": 34,
       "text": [
        "True"
       ]
      }
     ],
     "prompt_number": 34
    },
    {
     "cell_type": "code",
     "collapsed": false,
     "input": [
      "%timeit prob19_1()"
     ],
     "language": "python",
     "metadata": {},
     "outputs": [
      {
       "output_type": "stream",
       "stream": "stdout",
       "text": [
        "100 loops, best of 3: 4.03 ms per loop\n"
       ]
      }
     ],
     "prompt_number": 35
    },
    {
     "cell_type": "markdown",
     "metadata": {},
     "source": [
      "##[Problem 20](http://projecteuler.net/problem=20): Factorial digit sum\n",
      "---\n",
      "\n",
      "$n!$ means $n \\times (n  1) \\times ... \\times 3 \\times 2 \\times 1$\n",
      "\n",
      "For example, $10! = 10 \\times 9 \\times ... \\times 3 \\times 2 \\times 1 = 3628800$,\n",
      "and the sum of the digits in the number $10!$ is $3 + 6 + 2 + 8 + 8 + 0 + 0 = 27$.\n",
      "\n",
      "Find the sum of the digits in the number $100!$"
     ]
    },
    {
     "cell_type": "code",
     "collapsed": false,
     "input": [
      "def prob20_1(num=100):\n",
      "    '''A lazy method'''\n",
      "    from math import factorial\n",
      "    return sum(list(map(int, str(factorial(num)))))"
     ],
     "language": "python",
     "metadata": {},
     "outputs": [],
     "prompt_number": 36
    },
    {
     "cell_type": "code",
     "collapsed": false,
     "input": [
      "648 == prob20_1()"
     ],
     "language": "python",
     "metadata": {},
     "outputs": [
      {
       "metadata": {},
       "output_type": "pyout",
       "prompt_number": 37,
       "text": [
        "True"
       ]
      }
     ],
     "prompt_number": 37
    },
    {
     "cell_type": "code",
     "collapsed": false,
     "input": [
      "%timeit prob20_1()"
     ],
     "language": "python",
     "metadata": {},
     "outputs": [
      {
       "output_type": "stream",
       "stream": "stdout",
       "text": [
        "10000 loops, best of 3: 125 \u00b5s per loop\n"
       ]
      }
     ],
     "prompt_number": 38
    },
    {
     "cell_type": "code",
     "collapsed": false,
     "input": [],
     "language": "python",
     "metadata": {},
     "outputs": []
    }
   ],
   "metadata": {}
  }
 ]
}