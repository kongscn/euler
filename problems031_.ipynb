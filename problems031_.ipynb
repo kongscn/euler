{
 "metadata": {
  "name": ""
 },
 "nbformat": 3,
 "nbformat_minor": 0,
 "worksheets": [
  {
   "cells": [
    {
     "cell_type": "code",
     "collapsed": false,
     "input": [
      "from functools import reduce\n",
      "from operator import mul\n",
      "from math import sqrt, factorial, log, log10\n",
      "from itertools import permutations\n",
      "\n",
      "import numpy as np\n",
      "from scipy.special import lambertw\n",
      "import pandas as pd\n",
      "\n",
      "import util"
     ],
     "language": "python",
     "metadata": {},
     "outputs": [],
     "prompt_number": 1
    },
    {
     "cell_type": "code",
     "collapsed": false,
     "input": [
      "%load_ext cythonmagic"
     ],
     "language": "python",
     "metadata": {},
     "outputs": [],
     "prompt_number": 2
    },
    {
     "cell_type": "code",
     "collapsed": false,
     "input": [
      "import pyximport\n",
      "_ = pyximport.install()\n",
      "\n",
      "import common"
     ],
     "language": "python",
     "metadata": {},
     "outputs": [],
     "prompt_number": 3
    },
    {
     "cell_type": "markdown",
     "metadata": {},
     "source": [
      "##[Problem 31]():\n",
      "---"
     ]
    },
    {
     "cell_type": "code",
     "collapsed": false,
     "input": [
      "%%cython\n",
      "def prob31_1():\n",
      "    cdef int f1, f2, f5, f10, f20, f50, f100\n",
      "    cdef long possibles=0\n",
      "    for f1 in range(200/1+1):\n",
      "        for f2 in range(200/2+1):\n",
      "            for f5 in range(200/5+1):\n",
      "                for f10 in range(200/10+1):\n",
      "                    for f20 in range(200/20+1):\n",
      "                        for f50 in range(200/50+1):\n",
      "                            for f100 in range(200/100+1):\n",
      "                                if f1 + 2*f2 + 5*f5 + 10*f10 + 20*f20 + 50*f50 + 100*f100 == 200:\n",
      "                                    possibles += 1\n",
      "    return possibles+1"
     ],
     "language": "python",
     "metadata": {},
     "outputs": [],
     "prompt_number": 4
    },
    {
     "cell_type": "code",
     "collapsed": false,
     "input": [
      "73682 == prob31_1()"
     ],
     "language": "python",
     "metadata": {},
     "outputs": [
      {
       "metadata": {},
       "output_type": "pyout",
       "prompt_number": 5,
       "text": [
        "True"
       ]
      }
     ],
     "prompt_number": 5
    },
    {
     "cell_type": "code",
     "collapsed": false,
     "input": [
      "%timeit prob31_1()"
     ],
     "language": "python",
     "metadata": {},
     "outputs": [
      {
       "output_type": "stream",
       "stream": "stdout",
       "text": [
        "1 loops, best of 3: 4.47 s per loop\n"
       ]
      }
     ],
     "prompt_number": 6
    },
    {
     "cell_type": "markdown",
     "metadata": {},
     "source": [
      "##[Problem 32]():\n",
      "---"
     ]
    },
    {
     "cell_type": "code",
     "collapsed": false,
     "input": [
      "def prob32_1():\n",
      "    nums=set()\n",
      "    s=set('123456789')\n",
      "    for di in range(1, 3):\n",
      "        for i in permutations(s, di):\n",
      "            ri = s.difference(i)\n",
      "            for j in permutations(ri, 5-di):\n",
      "                rj = ri.difference(j)\n",
      "                mult = int(''.join(i)) * int(''.join(j))\n",
      "                if tuple(str(mult)) in permutations(rj):\n",
      "                    nums.add(mult)\n",
      "    return sum(nums)"
     ],
     "language": "python",
     "metadata": {},
     "outputs": [],
     "prompt_number": 7
    },
    {
     "cell_type": "code",
     "collapsed": false,
     "input": [
      "45228 == prob32_1()"
     ],
     "language": "python",
     "metadata": {},
     "outputs": [
      {
       "metadata": {},
       "output_type": "pyout",
       "prompt_number": 8,
       "text": [
        "True"
       ]
      }
     ],
     "prompt_number": 8
    },
    {
     "cell_type": "code",
     "collapsed": false,
     "input": [
      "%timeit prob32_1()"
     ],
     "language": "python",
     "metadata": {},
     "outputs": [
      {
       "output_type": "stream",
       "stream": "stdout",
       "text": [
        "1 loops, best of 3: 339 ms per loop\n"
       ]
      }
     ],
     "prompt_number": 9
    },
    {
     "cell_type": "markdown",
     "metadata": {},
     "source": [
      "##[Problem 33](http://projecteuler.net/problem=33):Digit canceling fractions\n",
      "---\n",
      "\n",
      "The fraction $49/98$ is a curious fraction, as an inexperienced mathematician in attempting to simplify it may incorrectly believe that $49/98 = 4/8$, which is correct, is obtained by cancelling the 9s.\n",
      "\n",
      "We shall consider fractions like, $30/50 = 3/5$, to be trivial examples.\n",
      "\n",
      "There are exactly four non-trivial examples of this type of fraction, less than one in value, and containing two digits in the numerator and denominator.\n",
      "\n",
      "If the product of these four fractions is given in its lowest common terms, find the value of the denominator."
     ]
    },
    {
     "cell_type": "code",
     "collapsed": false,
     "input": [
      "from fractions import gcd\n",
      "def prob33_1():\n",
      "    counts=0\n",
      "    pnu = 1\n",
      "    pde = 1\n",
      "    s = set([1,2,3,4,5,6,7,8,9])\n",
      "    for nu in permutations(s, 2):\n",
      "        for de in permutations(s, 2):\n",
      "            if nu < de:\n",
      "                nus = set(nu)\n",
      "                des = set(de)\n",
      "                if len(nus.intersection(des))==1:\n",
      "                    inu = nus.difference(des).pop()\n",
      "                    ide = des.difference(nus).pop()\n",
      "                    if (nu[0]*10+nu[1])/(de[0]*10+de[1]) == inu/ide:\n",
      "                        pnu *= inu\n",
      "                        pde *= ide\n",
      "                        counts +=1\n",
      "    return pde/gcd(pnu, pde)"
     ],
     "language": "python",
     "metadata": {},
     "outputs": [],
     "prompt_number": 10
    },
    {
     "cell_type": "code",
     "collapsed": false,
     "input": [
      "100 == prob33_1()"
     ],
     "language": "python",
     "metadata": {},
     "outputs": [
      {
       "metadata": {},
       "output_type": "pyout",
       "prompt_number": 11,
       "text": [
        "True"
       ]
      }
     ],
     "prompt_number": 11
    },
    {
     "cell_type": "code",
     "collapsed": false,
     "input": [
      "%timeit prob33_1()"
     ],
     "language": "python",
     "metadata": {},
     "outputs": [
      {
       "output_type": "stream",
       "stream": "stdout",
       "text": [
        "100 loops, best of 3: 8.95 ms per loop\n"
       ]
      }
     ],
     "prompt_number": 12
    },
    {
     "cell_type": "markdown",
     "metadata": {},
     "source": [
      "##[Problem 34](http://projecteuler.net/problem=34):Digit factorials\n",
      "---\n",
      "\n",
      "145 is a curious number, as $1! + 4! + 5! = 1 + 24 + 120 = 145$.\n",
      "\n",
      "Find the sum of all numbers which are equal to the sum of the factorial of their digits.\n",
      "\n",
      "Note: as $1! = 1$ and $2! = 2$ are not sums they are not included."
     ]
    },
    {
     "cell_type": "code",
     "collapsed": false,
     "input": [
      "def prob34_1():\n",
      "    s = 0\n",
      "    for i in range(3, 10**6):\n",
      "        if sum(map(factorial, map(int, str(i)))) == i:\n",
      "            s += i\n",
      "    return s"
     ],
     "language": "python",
     "metadata": {},
     "outputs": [],
     "prompt_number": 13
    },
    {
     "cell_type": "code",
     "collapsed": false,
     "input": [
      "40730 == prob34_1()"
     ],
     "language": "python",
     "metadata": {},
     "outputs": [
      {
       "metadata": {},
       "output_type": "pyout",
       "prompt_number": 14,
       "text": [
        "True"
       ]
      }
     ],
     "prompt_number": 14
    },
    {
     "cell_type": "code",
     "collapsed": false,
     "input": [
      "%timeit prob34_1()"
     ],
     "language": "python",
     "metadata": {},
     "outputs": [
      {
       "output_type": "stream",
       "stream": "stdout",
       "text": [
        "1 loops, best of 3: 6.72 s per loop\n"
       ]
      }
     ],
     "prompt_number": 15
    },
    {
     "cell_type": "markdown",
     "metadata": {},
     "source": [
      "##[Problem 35](http://projecteuler.net/problem=35): Circular primes\n",
      "---\n",
      "\n",
      "The number, 197, is called a circular prime because all rotations of the digits: 197, 971, and 719, are themselves prime.\n",
      "\n",
      "There are thirteen such primes below 100: 2, 3, 5, 7, 11, 13, 17, 31, 37, 71, 73, 79, and 97.\n",
      "\n",
      "How many circular primes are there below one million?"
     ]
    },
    {
     "cell_type": "code",
     "collapsed": false,
     "input": [
      "def rotations(n):\n",
      "    s = str(n)\n",
      "    l = len(s)\n",
      "    s *=2\n",
      "    rots = [s[i:i+l] for i in range(l)]\n",
      "    return map(int, rots)\n",
      "\n",
      "def prob35_1():\n",
      "    cirs = []\n",
      "    for p in common.primes(10**6):\n",
      "        if all(map(common.isPrime, rotations(p))):\n",
      "            cirs.append(p)\n",
      "    return len(cirs)"
     ],
     "language": "python",
     "metadata": {},
     "outputs": [],
     "prompt_number": 16
    },
    {
     "cell_type": "code",
     "collapsed": false,
     "input": [
      "55 == prob35_1()"
     ],
     "language": "python",
     "metadata": {},
     "outputs": [
      {
       "metadata": {},
       "output_type": "pyout",
       "prompt_number": 17,
       "text": [
        "True"
       ]
      }
     ],
     "prompt_number": 17
    },
    {
     "cell_type": "code",
     "collapsed": false,
     "input": [
      "%timeit prob35_1()"
     ],
     "language": "python",
     "metadata": {},
     "outputs": [
      {
       "output_type": "stream",
       "stream": "stdout",
       "text": [
        "1 loops, best of 3: 7.67 s per loop\n"
       ]
      }
     ],
     "prompt_number": 18
    },
    {
     "cell_type": "code",
     "collapsed": false,
     "input": [],
     "language": "python",
     "metadata": {},
     "outputs": []
    }
   ],
   "metadata": {}
  }
 ]
}