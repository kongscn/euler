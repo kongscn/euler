{
 "metadata": {
  "name": ""
 },
 "nbformat": 3,
 "nbformat_minor": 0,
 "worksheets": [
  {
   "cells": [
    {
     "cell_type": "code",
     "collapsed": false,
     "input": [
      "from functools import reduce\n",
      "from operator import mul\n",
      "from math import sqrt, factorial, log, log10\n",
      "from itertools import permutations\n",
      "\n",
      "import numpy as np\n",
      "from scipy.special import lambertw\n",
      "import pandas as pd\n",
      "\n",
      "import util"
     ],
     "language": "python",
     "metadata": {},
     "outputs": [],
     "prompt_number": 1
    },
    {
     "cell_type": "code",
     "collapsed": false,
     "input": [
      "%load_ext cythonmagic"
     ],
     "language": "python",
     "metadata": {},
     "outputs": [],
     "prompt_number": 2
    },
    {
     "cell_type": "code",
     "collapsed": false,
     "input": [
      "import pyximport\n",
      "_ = pyximport.install()\n",
      "\n",
      "import common"
     ],
     "language": "python",
     "metadata": {},
     "outputs": [],
     "prompt_number": 3
    },
    {
     "cell_type": "markdown",
     "metadata": {},
     "source": [
      "##[Problem 31]():\n",
      "---"
     ]
    },
    {
     "cell_type": "code",
     "collapsed": false,
     "input": [
      "%%cython\n",
      "def prob31_1():\n",
      "    cdef int f1, f2, f5, f10, f20, f50, f100\n",
      "    cdef long possibles=0\n",
      "    for f1 in range(200/1+1):\n",
      "        for f2 in range(200/2+1):\n",
      "            for f5 in range(200/5+1):\n",
      "                for f10 in range(200/10+1):\n",
      "                    for f20 in range(200/20+1):\n",
      "                        for f50 in range(200/50+1):\n",
      "                            for f100 in range(200/100+1):\n",
      "                                if f1 + 2*f2 + 5*f5 + 10*f10 + 20*f20 + 50*f50 + 100*f100 == 200:\n",
      "                                    possibles += 1\n",
      "    return possibles+1"
     ],
     "language": "python",
     "metadata": {},
     "outputs": [],
     "prompt_number": 4
    },
    {
     "cell_type": "code",
     "collapsed": false,
     "input": [
      "73682 == prob31_1()"
     ],
     "language": "python",
     "metadata": {},
     "outputs": [
      {
       "metadata": {},
       "output_type": "pyout",
       "prompt_number": 5,
       "text": [
        "True"
       ]
      }
     ],
     "prompt_number": 5
    },
    {
     "cell_type": "code",
     "collapsed": false,
     "input": [
      "%timeit prob31_1()"
     ],
     "language": "python",
     "metadata": {},
     "outputs": [
      {
       "output_type": "stream",
       "stream": "stdout",
       "text": [
        "1 loops, best of 3: 4.47 s per loop\n"
       ]
      }
     ],
     "prompt_number": 6
    },
    {
     "cell_type": "markdown",
     "metadata": {},
     "source": [
      "##[Problem 32]():\n",
      "---"
     ]
    },
    {
     "cell_type": "code",
     "collapsed": false,
     "input": [
      "def prob32_1():\n",
      "    nums=set()\n",
      "    s=set('123456789')\n",
      "    for di in range(1, 3):\n",
      "        for i in permutations(s, di):\n",
      "            ri = s.difference(i)\n",
      "            for j in permutations(ri, 5-di):\n",
      "                rj = ri.difference(j)\n",
      "                mult = int(''.join(i)) * int(''.join(j))\n",
      "                if tuple(str(mult)) in permutations(rj):\n",
      "                    nums.add(mult)\n",
      "    return sum(nums)"
     ],
     "language": "python",
     "metadata": {},
     "outputs": [],
     "prompt_number": 7
    },
    {
     "cell_type": "code",
     "collapsed": false,
     "input": [
      "45228 == prob32_1()"
     ],
     "language": "python",
     "metadata": {},
     "outputs": [
      {
       "metadata": {},
       "output_type": "pyout",
       "prompt_number": 8,
       "text": [
        "True"
       ]
      }
     ],
     "prompt_number": 8
    },
    {
     "cell_type": "code",
     "collapsed": false,
     "input": [
      "%timeit prob32_1()"
     ],
     "language": "python",
     "metadata": {},
     "outputs": [
      {
       "output_type": "stream",
       "stream": "stdout",
       "text": [
        "1 loops, best of 3: 339 ms per loop\n"
       ]
      }
     ],
     "prompt_number": 9
    },
    {
     "cell_type": "code",
     "collapsed": false,
     "input": [],
     "language": "python",
     "metadata": {},
     "outputs": []
    }
   ],
   "metadata": {}
  }
 ]
}